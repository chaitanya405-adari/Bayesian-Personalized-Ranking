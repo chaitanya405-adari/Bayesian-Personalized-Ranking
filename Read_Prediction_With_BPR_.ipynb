{
  "nbformat": 4,
  "nbformat_minor": 0,
  "metadata": {
    "colab": {
      "name": "Read_Prediction With BPR.ipynb",
      "provenance": [],
      "collapsed_sections": [
        "EFChdbWF6oc8"
      ],
      "toc_visible": true
    },
    "kernelspec": {
      "name": "python3",
      "display_name": "Python 3"
    },
    "accelerator": "GPU"
  },
  "cells": [
    {
      "cell_type": "code",
      "metadata": {
        "id": "5zASNQq5vvWb",
        "colab_type": "code",
        "outputId": "c28db507-20a9-4f34-dc4f-6167dbf439cb",
        "colab": {
          "base_uri": "https://localhost:8080/",
          "height": 80
        }
      },
      "source": [
        "import numpy as np\n",
        "import pandas as pd\n",
        "import matplotlib.pyplot as plt\n",
        "import tensorflow as tf\n",
        "from collections import defaultdict\n",
        "from tensorflow.keras.layers import *\n",
        "import tensorflow.keras as keras\n",
        "from keras.initializers import RandomNormal\n",
        "from tensorflow.keras import *\n",
        "from keras.utils import np_utils\n",
        "import sklearn"
      ],
      "execution_count": 0,
      "outputs": [
        {
          "output_type": "display_data",
          "data": {
            "text/html": [
              "<p style=\"color: red;\">\n",
              "The default version of TensorFlow in Colab will soon switch to TensorFlow 2.x.<br>\n",
              "We recommend you <a href=\"https://www.tensorflow.org/guide/migrate\" target=\"_blank\">upgrade</a> now \n",
              "or ensure your notebook will continue to use TensorFlow 1.x via the <code>%tensorflow_version 1.x</code> magic:\n",
              "<a href=\"https://colab.research.google.com/notebooks/tensorflow_version.ipynb\" target=\"_blank\">more info</a>.</p>\n"
            ],
            "text/plain": [
              "<IPython.core.display.HTML object>"
            ]
          },
          "metadata": {
            "tags": []
          }
        },
        {
          "output_type": "stream",
          "text": [
            "Using TensorFlow backend.\n"
          ],
          "name": "stderr"
        }
      ]
    },
    {
      "cell_type": "code",
      "metadata": {
        "id": "Af48xsNE5TvW",
        "colab_type": "code",
        "colab": {}
      },
      "source": [
        "def read_data(train_path,ho_path):\n",
        "    train_data = pd.read_csv(train_path)\n",
        "\n",
        "    ho_data = pd.read_csv(ho_path)\n",
        "    ho_data.loc[:, 'userID'] = ho_data.apply(lambda x: x['userID-bookID'].split('-')[0], axis=1)\n",
        "    ho_data.loc[:, 'bookID'] = ho_data.apply(lambda x: x['userID-bookID'].split('-')[1], axis=1)\n",
        "\n",
        "    return train_data, ho_data\n"
      ],
      "execution_count": 0,
      "outputs": []
    },
    {
      "cell_type": "code",
      "metadata": {
        "id": "tE5uU-_lxjWZ",
        "colab_type": "code",
        "colab": {}
      },
      "source": [
        "\n",
        "def extract_mappings(data,ratings_available=True):\n",
        "\n",
        "    book_to_user = defaultdict(list)\n",
        "    user_to_book = defaultdict(list)\n",
        "    ub_rating = defaultdict(dict)\n",
        "    book_mean_rating = defaultdict(int)\n",
        "    user_mean_rating = defaultdict(int)\n",
        "    def update_dict(x):\n",
        "        book_to_user[x['bid']].append(x['uid'])\n",
        "        user_to_book[x['uid']].append(x['bid'])\n",
        "        if ratings_available:\n",
        "            ub_rating[x['uid']][x['bid']] = x['rating']\n",
        "\n",
        "    data.apply(lambda x: update_dict(x), axis=1);\n",
        "\n",
        "\n",
        "    if ratings_available:\n",
        "\n",
        "        for book in book_to_user.keys():\n",
        "            ratings = []\n",
        "            for user in book_to_user[book]:\n",
        "                ratings.append(ub_rating[user][book])\n",
        "            book_mean_rating[book] = np.nanmean(ratings)\n",
        "\n",
        "        for user in user_to_book.keys():\n",
        "            ratings = []\n",
        "            for book in user_to_book[user]:\n",
        "                ratings.append(ub_rating[user][book])\n",
        "            user_mean_rating[user] = np.nanmean(ratings)\n",
        "\n",
        "        return book_to_user, user_to_book, ub_rating, book_mean_rating, user_mean_rating\n",
        "    else: return book_to_user, user_to_book\n"
      ],
      "execution_count": 0,
      "outputs": []
    },
    {
      "cell_type": "code",
      "metadata": {
        "id": "wNgYxdZB55CD",
        "colab_type": "code",
        "colab": {}
      },
      "source": [
        "def split_data(data,ratios=[0.70,0.15,0.15],seed=1000):\n",
        "\n",
        "    n = len(data)\n",
        "    #np.random.seed(seed)\n",
        "    #data = data.copy().sample(frac=1).reset_index(drop=True)\n",
        "    train = data[:int(n*ratios[0])]\n",
        "    val = data[int(n*ratios[0]):int(n*(ratios[0]+ratios[1]))]\n",
        "    test = data[int(n*(ratios[0]+ratios[1])):]\n",
        "    return train, val, test\n"
      ],
      "execution_count": 0,
      "outputs": []
    },
    {
      "cell_type": "code",
      "metadata": {
        "id": "X8pTYqJZhzkE",
        "colab_type": "code",
        "colab": {}
      },
      "source": [
        "train_data, ho_data = read_data(train_path='train_Interactions.csv',ho_path='pairs_Read.txt')\n",
        "rating_data = pd.read_csv('pairs_Rating.txt')\n"
      ],
      "execution_count": 0,
      "outputs": []
    },
    {
      "cell_type": "code",
      "metadata": {
        "id": "MyGAq2BZh0QH",
        "colab_type": "code",
        "colab": {}
      },
      "source": [
        "rating_data.loc[:, 'userID'] = rating_data.apply(lambda x: x['userID-bookID'].split('-')[0], axis=1)\n",
        "rating_data.loc[:, 'bookID'] = rating_data.apply(lambda x: x['userID-bookID'].split('-')[1], axis=1)\n",
        "rating_data.loc[:,'rating'] = rating_data.apply(lambda x: -1)\n",
        "rating_data = rating_data.drop(columns=['prediction'])\n",
        "rating_data = rating_data.drop(columns=['userID-bookID'])"
      ],
      "execution_count": 0,
      "outputs": []
    },
    {
      "cell_type": "code",
      "metadata": {
        "id": "V-rqdu4swXJv",
        "colab_type": "code",
        "colab": {}
      },
      "source": [
        "# Do mapping to integers\n",
        "uid_to_index = {}\n",
        "bid_to_index = {}\n",
        "index_to_uid = {}\n",
        "index_to_bid = {}\n",
        "\n",
        "users = np.unique(train_data.userID)\n",
        "books = np.unique(train_data.bookID)\n",
        "    \n",
        "for index,user in enumerate(users):\n",
        "    uid_to_index[user] = index\n",
        "    index_to_uid[index] = user\n",
        "for index,book in enumerate(books):\n",
        "    bid_to_index[book] = index\n",
        "    index_to_bid[index] = book\n",
        "    \n",
        "train_data.loc[:,'uid'] = train_data.apply(lambda x: uid_to_index[x['userID']],axis=1)    \n",
        "train_data.loc[:,'bid'] = train_data.apply(lambda x: bid_to_index[x['bookID']],axis=1)   \n",
        "ho_data.loc[:,'uid'] = ho_data.apply(lambda x: uid_to_index[x['userID']],axis=1)   \n",
        "ho_data.loc[:,'bid'] = ho_data.apply(lambda x: bid_to_index[x['bookID']],axis=1)   \n",
        "rating_data.loc[:,'uid'] = rating_data.apply(lambda x: uid_to_index[x['userID']],axis=1)   \n",
        "rating_data.loc[:,'bid'] = rating_data.apply(lambda x: bid_to_index[x['bookID']],axis=1)   "
      ],
      "execution_count": 0,
      "outputs": []
    },
    {
      "cell_type": "code",
      "metadata": {
        "id": "5bdFnbyMwsav",
        "colab_type": "code",
        "colab": {}
      },
      "source": [
        "train, val, test = split_data(train_data,ratios=[0.90,0.05,0.05],seed=111)"
      ],
      "execution_count": 0,
      "outputs": []
    },
    {
      "cell_type": "code",
      "metadata": {
        "id": "7LbgjSggJg9b",
        "colab_type": "code",
        "colab": {}
      },
      "source": [
        "train = train.append(rating_data)"
      ],
      "execution_count": 0,
      "outputs": []
    },
    {
      "cell_type": "code",
      "metadata": {
        "id": "pNcThXfx6xit",
        "colab_type": "code",
        "outputId": "0e57dc05-ae15-4fe7-be7a-7f5c23da85a3",
        "colab": {
          "base_uri": "https://localhost:8080/",
          "height": 34
        }
      },
      "source": [
        "len(train), len(val), len(test)"
      ],
      "execution_count": 0,
      "outputs": [
        {
          "output_type": "execute_result",
          "data": {
            "text/plain": [
              "(190000, 10000, 10000)"
            ]
          },
          "metadata": {
            "tags": []
          },
          "execution_count": 176
        }
      ]
    },
    {
      "cell_type": "markdown",
      "metadata": {
        "id": "jLv6yv9c0Bo6",
        "colab_type": "text"
      },
      "source": [
        "## Negative Sampling"
      ]
    },
    {
      "cell_type": "code",
      "metadata": {
        "id": "XoXqF2gaKL79",
        "colab_type": "code",
        "colab": {}
      },
      "source": [
        "overall_book_to_user, overall_user_to_book, overall_ub_rating, overall_book_mean_rating, overall_user_mean_rating = extract_mappings(train_data)\n",
        "train_book_to_user, train_user_to_book, train_ub_rating, train_book_mean_rating, train_user_mean_rating = extract_mappings(train)\n",
        "val_book_to_user, val_user_to_book, val_ub_rating, val_book_mean_rating, val_user_mean_rating = extract_mappings(val)"
      ],
      "execution_count": 0,
      "outputs": []
    },
    {
      "cell_type": "code",
      "metadata": {
        "id": "skK4LXGC0Aze",
        "colab_type": "code",
        "colab": {}
      },
      "source": [
        "all_books = set(list(range(len(books))))\n",
        "\n",
        "train_mapper = {}\n",
        "\n",
        "for user in range(len(users)):\n",
        "  train_mapper[user] = {'observed':[],'unobserved':[]}\n",
        "  \n",
        "  observed = set(train_user_to_book[user])\n",
        "  unobserved = all_books.difference(observed)\n",
        "  train_mapper[user]['observed'] = list(observed)\n",
        "  train_mapper[user]['unobserved'] = list(unobserved)\n",
        "\n",
        "#save_dict(train_mapper,'train_mappings.pkl')\n",
        "\n",
        "val_mapper = {}\n",
        "\n",
        "for user in range(len(users)):\n",
        "  val_mapper[user] = {'observed':[],'unobserved':[]}\n",
        "  \n",
        "  observed = set(val_user_to_book[user])\n",
        "  unobserved = all_books.difference(set(overall_user_to_book[user]))\n",
        "  val_mapper[user]['observed'] = list(observed)\n",
        "  val_mapper[user]['unobserved'] = list(unobserved)\n",
        "\n",
        "#save_dict(val_mapper,'val_mappings.pkl')\n"
      ],
      "execution_count": 0,
      "outputs": []
    },
    {
      "cell_type": "code",
      "metadata": {
        "id": "ZV0MjeLm2tnf",
        "colab_type": "code",
        "outputId": "12f5e658-f39f-4b1c-f717-a414e5168daf",
        "colab": {
          "base_uri": "https://localhost:8080/",
          "height": 241
        }
      },
      "source": [
        "# Negative Sampling For Validation Set \n",
        "\n",
        "np.random.seed(1002)\n",
        "val.loc[:,'did_read'] = val.apply(lambda x: 1,axis=1)\n",
        "l = len(val)\n",
        "for i in range(l):\n",
        "  uid, bid,userID,bookID,rating = val.iloc[i].uid,val.iloc[i].bid,val.iloc[i].userID,val.iloc[i].bookID,val.iloc[i].rating\n",
        "  negative = np.random.randint(0,len(books))\n",
        "  while negative in overall_user_to_book[uid]:\n",
        "    negative = np.random.randint(0,len(books))\n",
        "  val = val.append({'userID':userID,'bookID':bookID,'rating':rating,'uid':uid,'bid':negative,'did_read':0},ignore_index=True)"
      ],
      "execution_count": 0,
      "outputs": [
        {
          "output_type": "stream",
          "text": [
            "/usr/local/lib/python3.6/dist-packages/pandas/core/indexing.py:376: SettingWithCopyWarning: \n",
            "A value is trying to be set on a copy of a slice from a DataFrame.\n",
            "Try using .loc[row_indexer,col_indexer] = value instead\n",
            "\n",
            "See the caveats in the documentation: http://pandas.pydata.org/pandas-docs/stable/user_guide/indexing.html#returning-a-view-versus-a-copy\n",
            "  self.obj[key] = _infer_fill_value(value)\n",
            "/usr/local/lib/python3.6/dist-packages/pandas/core/indexing.py:494: SettingWithCopyWarning: \n",
            "A value is trying to be set on a copy of a slice from a DataFrame.\n",
            "Try using .loc[row_indexer,col_indexer] = value instead\n",
            "\n",
            "See the caveats in the documentation: http://pandas.pydata.org/pandas-docs/stable/user_guide/indexing.html#returning-a-view-versus-a-copy\n",
            "  self.obj[item] = s\n"
          ],
          "name": "stderr"
        }
      ]
    },
    {
      "cell_type": "code",
      "metadata": {
        "id": "xD8SXT676aLN",
        "colab_type": "code",
        "outputId": "fca0f4ca-ab2f-4cff-a55e-6d66a05ca12e",
        "colab": {
          "base_uri": "https://localhost:8080/",
          "height": 241
        }
      },
      "source": [
        "# Negative Sampling For Test Set \n",
        "\n",
        "np.random.seed(1002)\n",
        "test.loc[:,'did_read'] = test.apply(lambda x: 1,axis=1)\n",
        "l = len(test)\n",
        "for i in range(l):\n",
        "  uid, bid,userID,bookID,rating = test.iloc[i].uid,test.iloc[i].bid,test.iloc[i].userID,test.iloc[i].bookID,test.iloc[i].rating\n",
        "  negative = np.random.randint(0,len(books))\n",
        "  while negative in overall_user_to_book[uid]:\n",
        "    negative = np.random.randint(0,len(books))\n",
        "  test = test.append({'userID':userID,'bookID':bookID,'rating':rating,'uid':uid,'bid':negative,'did_read':0},ignore_index=True)"
      ],
      "execution_count": 0,
      "outputs": [
        {
          "output_type": "stream",
          "text": [
            "/usr/local/lib/python3.6/dist-packages/pandas/core/indexing.py:376: SettingWithCopyWarning: \n",
            "A value is trying to be set on a copy of a slice from a DataFrame.\n",
            "Try using .loc[row_indexer,col_indexer] = value instead\n",
            "\n",
            "See the caveats in the documentation: http://pandas.pydata.org/pandas-docs/stable/user_guide/indexing.html#returning-a-view-versus-a-copy\n",
            "  self.obj[key] = _infer_fill_value(value)\n",
            "/usr/local/lib/python3.6/dist-packages/pandas/core/indexing.py:494: SettingWithCopyWarning: \n",
            "A value is trying to be set on a copy of a slice from a DataFrame.\n",
            "Try using .loc[row_indexer,col_indexer] = value instead\n",
            "\n",
            "See the caveats in the documentation: http://pandas.pydata.org/pandas-docs/stable/user_guide/indexing.html#returning-a-view-versus-a-copy\n",
            "  self.obj[item] = s\n"
          ],
          "name": "stderr"
        }
      ]
    },
    {
      "cell_type": "code",
      "metadata": {
        "id": "byh1XE-j1jgz",
        "colab_type": "code",
        "outputId": "c99654bd-3dbf-41d8-fdea-e69eba2cb98d",
        "colab": {
          "base_uri": "https://localhost:8080/",
          "height": 34
        }
      },
      "source": [
        "print('Train: %d, Val: %d, Test: %d'%(len(train),len(val),len(test)))"
      ],
      "execution_count": 0,
      "outputs": [
        {
          "output_type": "stream",
          "text": [
            "Train: 190000, Val: 20000, Test: 20000\n"
          ],
          "name": "stdout"
        }
      ]
    },
    {
      "cell_type": "markdown",
      "metadata": {
        "id": "w1qsMyi-yO3N",
        "colab_type": "text"
      },
      "source": [
        "# Baselines - HW3"
      ]
    },
    {
      "cell_type": "markdown",
      "metadata": {
        "id": "NhEqZyCd4HI4",
        "colab_type": "text"
      },
      "source": [
        "### Popular Books Method - Varying Threshold"
      ]
    },
    {
      "cell_type": "code",
      "metadata": {
        "id": "APFhQOsQyzDa",
        "colab_type": "code",
        "colab": {}
      },
      "source": [
        "def get_popular_books(data, r = 0.50):\n",
        "  stats = pd.DataFrame(data.pivot_table(index='bid',values='rating',aggfunc='count').to_records())\n",
        "  stats = stats.sort_values(by='rating',ascending=False)\n",
        "  n = len(stats)\n",
        "  #print(stats.head())\n",
        "  popular_books = [0] * len(data)\n",
        "  total_sum = 0\n",
        "  popularity_dict_1 = {}\n",
        "  popularity_dict_2 = {}\n",
        "  for i in range(len(stats)):\n",
        "    popular_books[total_sum:(total_sum + stats.iloc[i].rating)] = [stats.iloc[i].bid]*stats.iloc[i].rating\n",
        "    popularity_dict_1[stats.iloc[i].bid] = stats.iloc[i].rating / len(data)\n",
        "    popularity_dict_2[stats.iloc[i].bid] = 1.0 - (total_sum/len(data))\n",
        "    total_sum += stats.iloc[i].rating\n",
        "  return popular_books,popularity_dict_1,popularity_dict_2\n",
        "\n",
        "def get_active_users(data, r = 0.50):\n",
        "  stats = pd.DataFrame(data.pivot_table(index='uid',values='rating',aggfunc='count').to_records())\n",
        "  stats = stats.sort_values(by='rating',ascending=False)\n",
        "  n = len(stats)\n",
        "  #print(stats.head())\n",
        "  active_users = [0] * len(data)\n",
        "  total_sum = 0\n",
        "  activity_dict_1 = {}\n",
        "  activity_dict_2 = {}\n",
        "  \n",
        "  for i in range(len(stats)):\n",
        "    active_users[total_sum:(total_sum + stats.iloc[i].rating)] = [stats.iloc[i].uid]*stats.iloc[i].rating\n",
        "    activity_dict_1[stats.iloc[i].uid] = stats.iloc[i].rating / len(data)#1.0 - (total_sum/len(data))\n",
        "    activity_dict_2[stats.iloc[i].uid] = 1.0 - (total_sum/len(data))\n",
        "    total_sum += stats.iloc[i].rating\n",
        "  #print(active_users)\n",
        "  return active_users,activity_dict_1,activity_dict_2\n"
      ],
      "execution_count": 0,
      "outputs": []
    },
    {
      "cell_type": "code",
      "metadata": {
        "id": "DYHGfF9vxSFD",
        "colab_type": "code",
        "outputId": "39ef7393-2df9-407c-a683-db1dd250a55b",
        "colab": {
          "base_uri": "https://localhost:8080/",
          "height": 312
        }
      },
      "source": [
        "thresholds = np.linspace(0,1,41)\n",
        "acc = []\n",
        "books_arr, _, _ = get_popular_books(train, 0)\n",
        "  \n",
        "popular_books = np.unique(books_arr[:int(0.50*len(books_arr))])\n",
        "val.loc[:,'read_prediction_popularity'] = val.apply(lambda x: 1 if x['bid'] in popular_books else 0,axis=1)\n",
        "baseline_accuracy = np.mean(val.read_prediction_popularity == val.did_read)\n",
        "print('Baseline popularity-based accuracy with 50th percentile: %f'%baseline_accuracy)\n",
        "\n",
        "\n",
        "for threshold in thresholds:\n",
        "  \n",
        "  popular_books = np.unique(books_arr[:int(threshold*len(books_arr))])\n",
        "  val.loc[:,'read_prediction_popularity'] = val.apply(lambda x: 1 if x['bid'] in popular_books else 0,axis=1)\n",
        "  acc.append(np.mean(val.read_prediction_popularity == val.did_read))\n",
        "\n",
        "plt.figure()\n",
        "plt.plot(thresholds,acc)\n",
        "plt.xlabel('Percentile Threshold')\n",
        "plt.ylabel('Validation Set Accuracy')\n",
        "plt.title('Threshold VS Accuracy')\n",
        "plt.show()"
      ],
      "execution_count": 0,
      "outputs": [
        {
          "output_type": "stream",
          "text": [
            "Baseline popularity-based accuracy with 50th percentile: 0.649400\n"
          ],
          "name": "stdout"
        },
        {
          "output_type": "display_data",
          "data": {
            "image/png": "[encoded data removed]",
            "text/plain": [
              "<Figure size 432x288 with 1 Axes>"
            ]
          },
          "metadata": {
            "tags": []
          }
        }
      ]
    },
    {
      "cell_type": "code",
      "metadata": {
        "id": "ZIusY_tetqMd",
        "colab_type": "code",
        "outputId": "fd3c678c-843c-4325-c871-8cb9c793a8aa",
        "colab": {
          "base_uri": "https://localhost:8080/",
          "height": 329
        }
      },
      "source": [
        "thresholds = np.linspace(0,1,41)\n",
        "acc = []\n",
        "users_arr, _, _ = get_active_users(train, 0)\n",
        "  \n",
        "active_users = np.unique(users_arr[:int(0.50*len(users_arr))])\n",
        "print(active_users)\n",
        "val.loc[:,'read_prediction_activity'] = val.apply(lambda x: 1 if x['uid'] in active_users else 0,axis=1)\n",
        "baseline_accuracy = np.mean(val.read_prediction_activity == val.did_read)\n",
        "print('Baseline activity-based accuracy with 50th percentile: %f'%baseline_accuracy)\n",
        "\n",
        "\n",
        "for threshold in thresholds:\n",
        "  \n",
        "  active_users = np.unique(users_arr[:int(threshold*len(users_arr))])\n",
        "  val.loc[:,'read_prediction_activity'] = val.apply(lambda x: 1 if x['uid'] in active_users else 0,axis=1)\n",
        "  acc.append(np.mean(val.read_prediction_activity == val.did_read))\n",
        "\n",
        "plt.figure()\n",
        "plt.plot(thresholds,acc)\n",
        "plt.xlabel('Percentile Threshold')\n",
        "plt.ylabel('Validation Set Accuracy')\n",
        "plt.title('Threshold VS Accuracy')\n",
        "plt.show()"
      ],
      "execution_count": 0,
      "outputs": [
        {
          "output_type": "stream",
          "text": [
            "[    2    12    29 ... 11348 11349 11354]\n",
            "Baseline activity-based accuracy with 50th percentile: 0.500000\n"
          ],
          "name": "stdout"
        },
        {
          "output_type": "display_data",
          "data": {
            "image/png": "[encoded data removed]",
            "text/plain": [
              "<Figure size 432x288 with 1 Axes>"
            ]
          },
          "metadata": {
            "tags": []
          }
        }
      ]
    },
    {
      "cell_type": "code",
      "metadata": {
        "id": "5kbfs1KC2Nfr",
        "colab_type": "code",
        "colab": {}
      },
      "source": [
        "_,pop_dict_1,pop_dict_2 = get_popular_books(train, 0)\n",
        "_,act_dict_1,act_dict_2 = get_active_users(train,0)\n",
        "\n",
        "val.loc[:,'activity_1'] = val.apply(lambda x: act_dict_1[x['uid']] if x['uid'] in act_dict_1.keys() else 0,axis=1)\n",
        "val.loc[:,'activity_2'] = val.apply(lambda x: act_dict_2[x['uid']] if x['uid'] in act_dict_2.keys() else 0,axis=1)\n",
        "val.loc[:,'popularity_1'] = val.apply(lambda x: pop_dict_1[x['bid']] if x['bid'] in pop_dict_1.keys() else 0,axis=1)\n",
        "val.loc[:,'popularity_2'] = val.apply(lambda x: pop_dict_2[x['bid']] if x['bid'] in pop_dict_2.keys() else 0,axis=1)\n",
        "\n",
        "if len(test) != 0:\n",
        "  test.loc[:,'activity_1'] = test.apply(lambda x: act_dict_1[x['uid']] if x['uid'] in act_dict_1.keys() else 0,axis=1)\n",
        "  test.loc[:,'activity_2'] = test.apply(lambda x: act_dict_2[x['uid']] if x['uid'] in act_dict_2.keys() else 0,axis=1)\n",
        "  test.loc[:,'popularity_1'] = test.apply(lambda x: pop_dict_1[x['bid']] if x['bid'] in pop_dict_1.keys() else 0,axis=1)\n",
        "  test.loc[:,'popularity_2'] = test.apply(lambda x: pop_dict_2[x['bid']] if x['bid'] in pop_dict_2.keys() else 0,axis=1)\n"
      ],
      "execution_count": 0,
      "outputs": []
    },
    {
      "cell_type": "markdown",
      "metadata": {
        "id": "EFChdbWF6oc8",
        "colab_type": "text"
      },
      "source": [
        "### Max Similarity Based - Varying Threshold"
      ]
    },
    {
      "cell_type": "code",
      "metadata": {
        "id": "Mtq11LQgU9qQ",
        "colab_type": "code",
        "colab": {}
      },
      "source": [
        "def calculate_similarity_book(b1,b2,mode='jacard'):\n",
        "  if mode == 'jacard':\n",
        "    return len(np.intersect1d(book_to_user[b1], book_to_user[b2])) / len(\n",
        "            np.union1d(book_to_user[b1], book_to_user[b2]))\n",
        "  elif mode == 'cross_corr':\n",
        "    common_users = np.intersect1d(book_to_user[b1],book_to_user[b2])\n",
        "    r1 = []\n",
        "    r2 = []\n",
        "    for user in common_users:\n",
        "      r1.append(ub_rating[user][b1])\n",
        "      r2.append(ub_rating[user][b2])\n",
        "    #print(r1,r2,len(np.intersect1d(book_to_user[b1], book_to_user[b2])) / len(\n",
        "            #np.union1d(book_to_user[b1], book_to_user[b2])))\n",
        "    #return np.corrcoef(r1,r2)[0][1]\n",
        "    #print(r1,r2)\n",
        "    return np.dot(r1,r2)\n",
        "  \n",
        "\n",
        "def get_max_similarity_book(uid,bid,mode='jacard'):\n",
        "  max_similarity = 0.0\n",
        "  sims = []\n",
        "  for book in user_to_book[uid]: \n",
        "    similarity = calculate_similarity_book(book,bid,mode=mode)\n",
        "    #print(similarity)\n",
        "    if not np.isnan(similarity):\n",
        "      max_similarity = max(max_similarity,similarity)\n",
        "      sims.append(similarity)\n",
        "\n",
        "  sims.sort()\n",
        "  if min(len(sims),m) == 0:\n",
        "    return max_similarity\n",
        "  return np.mean(sims[- min(len(sims),m):])\n",
        "\n",
        "def calculate_similarity_user(u1,u2,mode='jacard'):\n",
        "  if mode == 'jacard':\n",
        "    return len(np.intersect1d(user_to_book[u1], user_to_book[u2])) / len(\n",
        "            np.union1d(user_to_book[u1], user_to_book[u2]))\n",
        "  elif mode == 'cross_corr':\n",
        "    common_books = np.intersect1d(user_to_book[u1],user_to_book[u2])\n",
        "    r1 = []\n",
        "    r2 = []\n",
        "    for book in common_books:\n",
        "      r1.append(ub_rating[u1][book])\n",
        "      r2.append(ub_rating[u2][book])\n",
        "    #return np.corrcoef(r1,r2)[0][0]\n",
        "    return np.dot(r1,r2)\n",
        "\n",
        "def get_max_similarity_user(uid,bid,mode='jacard'):\n",
        "  max_similarity = 0.0\n",
        "  sims = []\n",
        "  for user in book_to_user[bid]: \n",
        "    similarity = calculate_similarity_user(user,uid,mode=mode)\n",
        "    \n",
        "    if not np.isnan(similarity):\n",
        "      max_similarity = max(max_similarity,similarity)\n",
        "      sims.append(similarity)\n",
        "\n",
        "  sims.sort()\n",
        "  if min(len(sims),m) == 0:\n",
        "    return max_similarity\n",
        "  return np.mean(sims[- min(len(sims),m):])\n",
        "\n"
      ],
      "execution_count": 0,
      "outputs": []
    },
    {
      "cell_type": "code",
      "metadata": {
        "id": "dg49gM2Q0x8G",
        "colab_type": "code",
        "outputId": "129efa6c-5c61-46a4-f82e-eba88b7e218c",
        "colab": {
          "base_uri": "https://localhost:8080/",
          "height": 85
        }
      },
      "source": [
        "\n",
        "book_to_user, user_to_book, ub_rating, book_mean_rating, user_mean_rating = extract_mappings(train)\n",
        "\n",
        "for m in [1,3,5,7]:\n",
        "  # Run for different values of m and see which works best\n",
        "  print('M = %d'%m)\n",
        "  \n",
        "  val.loc[:,'max_similarity_book_'+str(m)] = val.apply(lambda x: get_max_similarity_book(x['uid'],x['bid'],'jacard'),axis=1)\n",
        "  val.loc[:,'max_similarity_user_'+str(m)] = val.apply(lambda x: get_max_similarity_user(x['uid'],x['bid'],'jacard'),axis=1)\n",
        "  \n",
        "  if len(test) != 0:\n",
        "    test.loc[:,'max_similarity_book_'+str(m)] = test.apply(lambda x: get_max_similarity_book(x['uid'],x['bid'],'jacard'),axis=1)\n",
        "    test.loc[:,'max_similarity_user_'+str(m)] = test.apply(lambda x: get_max_similarity_user(x['uid'],x['bid'],'jacard'),axis=1)\n",
        "  \n",
        "  #print('Max Similarity Average Values: ',np.mean(val.max_similarity_book), np.mean(val.max_similarity_user))\n",
        "\n",
        "  # thresholds = np.linspace(0,1,100)\n",
        "  # acc = []\n",
        "  # for threshold in thresholds:\n",
        "  #   val.loc[:,'read_prediction_jc'] = val.apply(lambda x: 1 if x['max_similarity_book_'+str(m)] >= threshold else 0,axis=1)\n",
        "  #   acc.append(np.mean(val.read_prediction_jc == val.did_read))\n",
        "\n",
        "  # plt.figure()\n",
        "  # plt.plot(thresholds,acc)\n",
        "  # plt.xlabel('Max Similarity Threshold')\n",
        "  # plt.ylabel('Validation Set Accuracy')\n",
        "  # plt.title('Threshold VS Accuracy')\n",
        "  # plt.show()\n",
        "\n",
        "  # index = np.argmax(acc)\n",
        "  # print('Best jacard based (threshold,accuracy): (%f,%f)'%(thresholds[index],acc[index]))\n",
        "\n",
        "\n",
        "  # thresholds = np.linspace(0,1,100)\n",
        "  # acc = []\n",
        "  # for threshold in thresholds:\n",
        "  #   val.loc[:,'read_prediction_jc'] = val.apply(lambda x: 1 if x['max_similarity_user_'+str(m)] >= threshold else 0,axis=1)\n",
        "  #   acc.append(np.mean(val.read_prediction_jc == val.did_read))\n",
        "\n",
        "  # plt.figure()\n",
        "  # plt.plot(thresholds,acc)\n",
        "  # plt.xlabel('Max Similarity Threshold')\n",
        "  # plt.ylabel('Validation Set Accuracy')\n",
        "  # plt.title('Threshold VS Accuracy')\n",
        "  # plt.show()\n",
        "\n",
        "  # index = np.argmax(acc)\n",
        "  # print('Best jacard based (threshold,accuracy): (%f,%f)'%(thresholds[index],acc[index]))\n"
      ],
      "execution_count": 0,
      "outputs": [
        {
          "output_type": "stream",
          "text": [
            "M = 1\n",
            "M = 3\n",
            "M = 5\n",
            "M = 7\n"
          ],
          "name": "stdout"
        }
      ]
    },
    {
      "cell_type": "markdown",
      "metadata": {
        "id": "UiIFIc9ih2tB",
        "colab_type": "text"
      },
      "source": [
        "### Ranking Method - Training"
      ]
    },
    {
      "cell_type": "code",
      "metadata": {
        "id": "kDsLolc5M0ir",
        "colab_type": "code",
        "colab": {}
      },
      "source": [
        "import pickle\n",
        "def save_dict(d,filename):\n",
        "  f = open(filename,\"wb\")\n",
        "  pickle.dump(d,f)\n",
        "  f.close()\n",
        "\n",
        "def load_dict(filename):\n",
        "  f = open(filename,'rb')\n",
        "  d = pickle.load(f)\n",
        "  return d"
      ],
      "execution_count": 0,
      "outputs": []
    },
    {
      "cell_type": "code",
      "metadata": {
        "id": "-lCUG19SC6aG",
        "colab_type": "code",
        "colab": {}
      },
      "source": [
        "def create_datasets(train,val,batch_size=3):\n",
        "  tf_train = tf.data.Dataset.from_tensor_slices((train.uid,train.bid)).shuffle(buffer_size=1000).batch(batch_size)\n",
        "  tf_val = tf.data.Dataset.from_tensor_slices((val.uid,val.bid)).batch(batch_size)\n",
        "  tf_eval = tf.data.Dataset.from_tensor_slices((train.uid,train.bid)).shuffle(buffer_size=1000).batch(batch_size)\n",
        "  iterator = tf.data.Iterator.from_structure(tf_train.output_types,\n",
        "                                                tf_train.output_shapes)\n",
        "  eval_iterator = tf.data.Iterator.from_structure(tf_eval.output_types,\n",
        "                                                tf_eval.output_shapes)\n",
        "  train_init_op = iterator.make_initializer(tf_train)\n",
        "  val_init_op = iterator.make_initializer(tf_val)\n",
        "  eval_init_op = eval_iterator.make_initializer(tf_eval)\n",
        "\n",
        "  next_element = iterator.get_next()\n",
        "  next_element_eval = eval_iterator.get_next()\n",
        "\n",
        "  return train_init_op, val_init_op, eval_init_op, next_element, next_element_eval\n"
      ],
      "execution_count": 0,
      "outputs": []
    },
    {
      "cell_type": "code",
      "metadata": {
        "id": "yExJcXzvh6ga",
        "colab_type": "code",
        "outputId": "eac11640-987d-425b-9110-f3f3b13ea59e",
        "colab": {
          "base_uri": "https://localhost:8080/",
          "height": 34
        }
      },
      "source": [
        "n = len(users)\n",
        "m = len(books)\n",
        "K = 6\n",
        "print(n,m,K)"
      ],
      "execution_count": 0,
      "outputs": [
        {
          "output_type": "stream",
          "text": [
            "11357 7170 6\n"
          ],
          "name": "stdout"
        }
      ]
    },
    {
      "cell_type": "code",
      "metadata": {
        "id": "pA5EBt5TaA2D",
        "colab_type": "code",
        "outputId": "30b24fef-750c-4da5-d0d0-d04e877e9460",
        "colab": {
          "base_uri": "https://localhost:8080/",
          "height": 34
        }
      },
      "source": [
        "len(train)"
      ],
      "execution_count": 0,
      "outputs": [
        {
          "output_type": "execute_result",
          "data": {
            "text/plain": [
              "190000"
            ]
          },
          "metadata": {
            "tags": []
          },
          "execution_count": 191
        }
      ]
    },
    {
      "cell_type": "code",
      "metadata": {
        "id": "TLO4MIrxYgKL",
        "colab_type": "code",
        "colab": {}
      },
      "source": [
        "import tensorflow as tf\n",
        "from tensorflow.keras.layers import Embedding\n",
        "\n",
        "tf.reset_default_graph()\n",
        "train_init_op, val_init_op, eval_init_op, next_element, next_element_eval = create_datasets(train,val,batch_size=10000)"
      ],
      "execution_count": 0,
      "outputs": []
    },
    {
      "cell_type": "code",
      "metadata": {
        "id": "DKhlULuVC6XN",
        "colab_type": "code",
        "colab": {}
      },
      "source": [
        "user_embedding = Embedding(n,K)\n",
        "book_embedding = Embedding(m,K)\n",
        "user_bias_embedding = Embedding(n,1)\n",
        "book_bias_embedding = Embedding(m,1)\n",
        "\n",
        "uid_ph = tf.placeholder(dtype=tf.int32,shape=(None,1))\n",
        "bid1_ph = tf.placeholder(dtype=tf.int32,shape=(None,1))\n",
        "bid2_ph = tf.placeholder(dtype=tf.int32,shape=(None,1))\n",
        "\n",
        "score_1 = user_bias_embedding(uid_ph) + book_bias_embedding(bid1_ph)\n",
        "score_1 = score_1 + Dot(axes=2)([user_embedding(uid_ph),book_embedding(bid1_ph)])\n",
        "score_2 = Add()([user_bias_embedding(uid_ph),book_bias_embedding(bid2_ph)])\n",
        "score_2 = score_2 + Dot(axes=2)([user_embedding(uid_ph),book_embedding(bid2_ph)])\n",
        "\n",
        "weight_decay = 0.0001\n",
        "reg_losses = tf.reduce_mean(tf.math.pow(user_embedding.weights,2)) +  tf.reduce_mean(tf.math.pow(book_embedding.weights,2)) +  tf.reduce_mean(tf.math.pow(user_bias_embedding.weights,2)) + tf.reduce_mean(tf.math.pow(book_bias_embedding.weights,2))\n",
        "reg_losses = weight_decay * reg_losses\n",
        "\n",
        "\n",
        "gain = tf.math.sigmoid(score_1 - score_2)\n",
        "mean_gain = tf.reduce_mean(gain)\n",
        "optimizer = tf.train.AdamOptimizer(0.001).minimize(-mean_gain+reg_losses)\n",
        "\n",
        "performance_check_sample_size = 1000\n",
        "n_train = len(train)\n",
        "n_val = len(val)\n",
        "n_epochs = 200\n"
      ],
      "execution_count": 0,
      "outputs": []
    },
    {
      "cell_type": "code",
      "metadata": {
        "id": "GW1nnr9DC6Gd",
        "colab_type": "code",
        "outputId": "5167268f-6a31-4a50-daaf-1a9dcc358dbf",
        "colab": {
          "base_uri": "https://localhost:8080/",
          "height": 136
        }
      },
      "source": [
        "\n",
        "saver = tf.train.Saver()\n",
        "load_path = None\n",
        "load_path = './model__checkpoint_' + str(39) + '.ckpt'\n",
        "\n",
        "with tf.device('/gpu:0'):\n",
        "  with tf.Session() as sess:\n",
        "    np.random.seed(1002)\n",
        "    sess.run(tf.global_variables_initializer())\n",
        "\n",
        "    if load_path is not None:\n",
        "      saver.restore(sess,load_path)\n",
        "\n",
        "    n_samples = 20\n",
        "    for epoch in range(n_epochs):\n",
        "      sess.run(train_init_op)\n",
        "      for _ in range(n_train//10000):\n",
        "        # uid,bid1 = sess.run(next_element)\n",
        "        # for s in range(n_samples):\n",
        "        #   bid2 = train_mapper[uid]['unobserved'][np.random.randint(len(train_mapper[uid]['unobserved']))]\n",
        "        batch_data = sess.run(next_element)\n",
        "        uid_data = np.expand_dims(batch_data[0],axis=1)\n",
        "        bid1_data = np.expand_dims(batch_data[1],axis=1)\n",
        "        bid2_data = np.expand_dims(batch_data[1],axis=1).copy()\n",
        "        \n",
        "        for s in range(n_samples):\n",
        "          for index,uid_data_ in enumerate(uid_data):        \n",
        "              bid2_data[index][0] = train_mapper[uid_data_[0]]['unobserved'][np.random.randint(len(train_mapper[uid_data_[0]]['unobserved']))]\n",
        "            #_, likelihood = sess.run([optimizer,gain],feed_dict={uid_ph:(uid,), bid1_ph:(bid1,), bid2_ph:(bid2,)})\n",
        "          _, likelihood = sess.run([optimizer,gain],feed_dict={uid_ph:uid_data, bid1_ph:bid1_data, bid2_ph:bid2_data})\n",
        "       \n",
        "              \n",
        "      if (epoch+1) % 20 == 0:\n",
        "        predictions = []\n",
        "        predictions_2 = []\n",
        "        for i in range(len(val)):\n",
        "          uid = val.iloc[i].uid\n",
        "          bid = val.iloc[i].bid\n",
        "          books_read_by_user = np.expand_dims(np.array(train_user_to_book[uid]),1)\n",
        "          uid = np.expand_dims(np.array([uid] * len(books_read_by_user)),1)\n",
        "          bid = np.expand_dims(np.array([bid] * len(books_read_by_user)),1)\n",
        "          prefs, curr = sess.run([score_1,score_2],feed_dict={uid_ph:(uid),bid1_ph:(books_read_by_user),bid2_ph:(bid)})\n",
        "          prefs = np.min(prefs)\n",
        "          curr = np.mean(curr)\n",
        "          if curr < prefs:\n",
        "            predictions.append(0)\n",
        "          else: predictions.append(1)\n",
        "\n",
        "          if (prefs > 0 and curr / prefs < 0.50) or (prefs < 0 and curr < prefs):\n",
        "            predictions_2.append(0)\n",
        "          else: predictions_2.append(1)\n",
        "      \n",
        "        print('Epoch: %d, Accuracy: %f, %f'%(epoch,np.mean(predictions==val.did_read),np.mean(predictions_2==val.did_read)))\n",
        "        if (epoch+1) % 20 == 0:\n",
        "          saver.save(sess,'./models6e/model__checkpoint_' + str(epoch) + '.ckpt')\n",
        "      \n"
      ],
      "execution_count": 0,
      "outputs": [
        {
          "output_type": "stream",
          "text": [
            "INFO:tensorflow:Restoring parameters from ./model__checkpoint_39.ckpt\n",
            "Epoch: 19, Accuracy: 0.706150, 0.711800\n",
            "Epoch: 39, Accuracy: 0.704650, 0.711400\n",
            "Epoch: 59, Accuracy: 0.706450, 0.711250\n",
            "Epoch: 79, Accuracy: 0.705000, 0.711200\n",
            "Epoch: 99, Accuracy: 0.707000, 0.711450\n",
            "Epoch: 119, Accuracy: 0.704850, 0.709950\n"
          ],
          "name": "stdout"
        }
      ]
    },
    {
      "cell_type": "markdown",
      "metadata": {
        "id": "lhnttg9X1Tgs",
        "colab_type": "text"
      },
      "source": [
        "### Ranking Method - Evaluation"
      ]
    },
    {
      "cell_type": "code",
      "metadata": {
        "id": "GCVPrgnnotyc",
        "colab_type": "code",
        "colab": {}
      },
      "source": [
        "load_path = './model__checkpoint_' + str(39) + '.ckpt'\n",
        "\n",
        "def get_predictions(data,load_path = load_path):\n",
        "  saver = tf.train.Saver()\n",
        "\n",
        "  with tf.device('/gpu:0'):\n",
        "    with tf.Session() as sess:\n",
        "      sess.run(tf.global_variables_initializer())\n",
        "\n",
        "      if load_path is not None:\n",
        "        saver.restore(sess,load_path)\n",
        "\n",
        "      prefs_arr = []\n",
        "      curr_arr = []\n",
        "      predictions = []\n",
        "      predictions_2 = []\n",
        "      scores_arr = []\n",
        "      solution = defaultdict(list)\n",
        "      scores_dict = defaultdict(dict)\n",
        "      \n",
        "      for i in range(len(data)):\n",
        "        uid = data.iloc[i].uid\n",
        "        bid = data.iloc[i].bid\n",
        "        books_read_by_user = np.expand_dims(np.array(train_user_to_book[uid]),1)\n",
        "        uid = np.expand_dims(np.array([uid] * len(books_read_by_user)),1)\n",
        "        bid = np.expand_dims(np.array([bid] * len(books_read_by_user)),1)\n",
        "        prefs, curr = sess.run([score_1,score_2],feed_dict={uid_ph:(uid),bid1_ph:(books_read_by_user),bid2_ph:(bid)})\n",
        "        prefs = np.min(prefs)\n",
        "        curr = np.mean(curr)\n",
        "\n",
        "        scores_dict[uid[0][0]][bid[0][0]] = curr\n",
        "        solution[uid[0][0]].append(curr)\n",
        "        solution[uid[0][0]].sort()\n",
        "\n",
        "\n",
        "        prefs_arr.append(prefs)\n",
        "        curr_arr.append(curr)\n",
        "        if curr < prefs:\n",
        "          predictions.append(0)\n",
        "        else: predictions.append(1)\n",
        "        if (prefs > 0 and curr / prefs < 0.50) or (prefs < 0 and curr < prefs):\n",
        "          predictions_2.append(0)\n",
        "        else: predictions_2.append(1)\n",
        "  \n",
        "        temp = np.sign(curr-prefs)*abs(curr-prefs)/prefs\n",
        "        scores_arr.append((temp,i))\n",
        "\n",
        "      predictions_3 = []\n",
        "      for i in range(len(data)):\n",
        "        uid = data.iloc[i].uid\n",
        "        bid = data.iloc[i].bid\n",
        "        l = len(solution[uid])\n",
        "        assert(l % 2 == 0)\n",
        "        if scores_dict[uid][bid] >= solution[uid][int(l/2)]:\n",
        "          predictions_3.append(1)\n",
        "        else: predictions_3.append(0)\n",
        "\n",
        "      return predictions_2,prefs_arr,curr_arr,predictions_3"
      ],
      "execution_count": 0,
      "outputs": []
    },
    {
      "cell_type": "code",
      "metadata": {
        "id": "NgCGh7kcTCm8",
        "colab_type": "code",
        "outputId": "438c0ac1-14a6-4392-fd89-f9b2d49f1a8b",
        "colab": {
          "base_uri": "https://localhost:8080/",
          "height": 34
        }
      },
      "source": [
        "len(train)"
      ],
      "execution_count": 0,
      "outputs": [
        {
          "output_type": "execute_result",
          "data": {
            "text/plain": [
              "190000"
            ]
          },
          "metadata": {
            "tags": []
          },
          "execution_count": 196
        }
      ]
    },
    {
      "cell_type": "code",
      "metadata": {
        "id": "2uoVYiIf9d-5",
        "colab_type": "code",
        "outputId": "1f4dd8a0-a64e-473f-97d6-d6d37149a75c",
        "colab": {
          "base_uri": "https://localhost:8080/",
          "height": 51
        }
      },
      "source": [
        "predictions_val1,prefs_arr,curr_arr,predictions_val = get_predictions(val,load_path)\n",
        "print(np.mean(predictions_val==val.did_read))"
      ],
      "execution_count": 0,
      "outputs": [
        {
          "output_type": "stream",
          "text": [
            "INFO:tensorflow:Restoring parameters from ./model__checkpoint_39.ckpt\n",
            "0.7659\n"
          ],
          "name": "stdout"
        }
      ]
    },
    {
      "cell_type": "code",
      "metadata": {
        "id": "bXwLUxCkSr4v",
        "colab_type": "code",
        "outputId": "497559dd-8bf5-4c87-837e-0976b34a9f3a",
        "colab": {
          "base_uri": "https://localhost:8080/",
          "height": 51
        }
      },
      "source": [
        "predictions_test1,prefs_arr,curr_arr,predictions_test = get_predictions(test,load_path)\n",
        "print(np.mean(predictions_test==test.did_read))"
      ],
      "execution_count": 0,
      "outputs": [
        {
          "output_type": "stream",
          "text": [
            "INFO:tensorflow:Restoring parameters from ./model__checkpoint_39.ckpt\n",
            "0.7647\n"
          ],
          "name": "stdout"
        }
      ]
    },
    {
      "cell_type": "code",
      "metadata": {
        "id": "FUYEiEUq4pz5",
        "colab_type": "code",
        "colab": {}
      },
      "source": [
        "from sklearn.linear_model import LogisticRegression\n",
        "from sklearn.neural_network import MLPClassifier\n",
        "\n",
        "\n",
        "def evaluate_model(data,model):\n",
        "\n",
        "  v = int(len(data)/2)\n",
        "  p = model.predict_proba(data.loc[:,features])\n",
        "  solution = defaultdict(list)\n",
        "  scores_dict = defaultdict(dict)\n",
        "      \n",
        "  for i in range(len(data)):\n",
        "    uid = data.iloc[i].uid\n",
        "    bid = data.iloc[i].bid\n",
        "    solution[uid].append(p[i][1])\n",
        "    solution[uid].sort()\n",
        "    scores_dict[uid][bid] = p[i][1]\n",
        "\n",
        "  pr = []\n",
        "  for i in range(len(data)):\n",
        "    uid = data.iloc[i].uid\n",
        "    bid = data.iloc[i].bid\n",
        "    l = len(solution[uid])\n",
        "    assert(l % 2 == 0)\n",
        "    if scores_dict[uid][bid] >= solution[uid][int(l/2)]:\n",
        "      pr.append(1)\n",
        "    else: pr.append(0)\n",
        "  print('Threshold Accuracy: ', np.mean(pr == data.did_read))\n",
        "\n",
        "\n",
        "  p_1 = [temp[1] for temp in p]\n",
        "  p_1.sort()\n",
        "  p_threshold = p_1[-v]\n",
        "\n",
        "  pr = [0] * len(data)\n",
        "  for i in range(len(data)):\n",
        "    if p[i][1] > p_threshold:\n",
        "      pr[i] = 1\n",
        "  print('Earlier threshold accuracy: ',np.mean(pr == data.did_read))\n",
        "  print('Threshold: ',p_threshold)\n",
        "  pr = [0] * len(data) \n",
        "  for i in range(len(data)):\n",
        "    if p[i][1] > 0.50:\n",
        "      pr[i] = 1\n",
        "  print('Without threshold accuracy: ',np.mean(pr == data.did_read))\n",
        "\n"
      ],
      "execution_count": 0,
      "outputs": []
    },
    {
      "cell_type": "code",
      "metadata": {
        "id": "pR5gpCNa1ph5",
        "colab_type": "code",
        "colab": {}
      },
      "source": [
        "val.loc[:,'bpr'] = predictions_val\n",
        "val.loc[:,'book_mean'] = val.apply(lambda x: train_book_mean_rating[x['bid']],axis=1)\n",
        "val.loc[:,'user_mean'] = val.apply(lambda x: train_user_mean_rating[x['uid']],axis=1)\n",
        "\n",
        "if len(test) != 0:\n",
        "  test.loc[:,'bpr'] = predictions_test\n",
        "  test.loc[:,'book_mean'] = test.apply(lambda x: train_book_mean_rating[x['bid']],axis=1)\n",
        "  test.loc[:,'user_mean'] = test.apply(lambda x: train_user_mean_rating[x['uid']],axis=1)\n",
        "\n",
        "\n",
        "for feature in features:\n",
        "  val.loc[:,feature] = val.loc[:,feature] / np.max(val.loc[:,feature])\n",
        "\n",
        "if len(test) != 0:\n",
        "  for feature in features:\n",
        "    test.loc[:,feature] = test.loc[:,feature] / np.max(test.loc[:,feature])\n"
      ],
      "execution_count": 0,
      "outputs": []
    },
    {
      "cell_type": "code",
      "metadata": {
        "id": "S5NID7eW1KUB",
        "colab_type": "code",
        "outputId": "511dc96c-a133-466e-f3f3-2eb44f39f0cc",
        "colab": {
          "base_uri": "https://localhost:8080/",
          "height": 139
        }
      },
      "source": [
        "model = LogisticRegression(C=1.0)\n",
        "\n",
        "features = ['bpr',\n",
        "            'max_similarity_book_3', 'max_similarity_user_3',\n",
        "            'max_similarity_book_5', 'max_similarity_user_5',\n",
        "            'max_similarity_book_7', 'max_similarity_user_7']\n",
        "\n",
        "\n",
        "model.fit(val.loc[:,features],val.did_read)\n",
        "evaluate_model(val,model)\n",
        "\n"
      ],
      "execution_count": 0,
      "outputs": [
        {
          "output_type": "stream",
          "text": [
            "/usr/local/lib/python3.6/dist-packages/sklearn/linear_model/logistic.py:432: FutureWarning: Default solver will be changed to 'lbfgs' in 0.22. Specify a solver to silence this warning.\n",
            "  FutureWarning)\n"
          ],
          "name": "stderr"
        },
        {
          "output_type": "stream",
          "text": [
            "Threshold Accuracy:  0.76645\n",
            "Earlier threshold accuracy:  0.75795\n",
            "Threshold:  0.5703590332543761\n",
            "Without threshold accuracy:  0.76715\n"
          ],
          "name": "stdout"
        }
      ]
    },
    {
      "cell_type": "code",
      "metadata": {
        "id": "zXqQZdgCVbxg",
        "colab_type": "code",
        "outputId": "28f9e328-6e63-4ae5-e8f1-502a5fb30b32",
        "colab": {
          "base_uri": "https://localhost:8080/",
          "height": 85
        }
      },
      "source": [
        "evaluate_model(test,model)"
      ],
      "execution_count": 0,
      "outputs": [
        {
          "output_type": "stream",
          "text": [
            "Threshold Accuracy:  0.77095\n",
            "Earlier threshold accuracy:  0.73515\n",
            "Threshold:  0.7777650387770892\n",
            "Without threshold accuracy:  0.717\n"
          ],
          "name": "stdout"
        }
      ]
    },
    {
      "cell_type": "code",
      "metadata": {
        "id": "m78MvmGuTFW9",
        "colab_type": "code",
        "outputId": "4326e940-b602-4cef-96dc-ece9f86ef448",
        "colab": {
          "base_uri": "https://localhost:8080/",
          "height": 34
        }
      },
      "source": [
        "ho_data_ = pd.read_csv('ho_data_updated_with_ratings.csv')\n",
        "_,_,_,predictions_ho = get_predictions(ho_data_,load_path)\n",
        "ho_data_.loc[:,'bpr'] = predictions_ho\n",
        "ho_data_.loc[:,'book_mean'] = ho_data_.apply(lambda x: train_book_mean_rating[x['bid']],axis=1)\n",
        "ho_data_.loc[:,'user_mean'] = ho_data_.apply(lambda x: train_user_mean_rating[x['uid']],axis=1)\n",
        "\n",
        "for feature in features:\n",
        "  ho_data_.loc[:,feature] = ho_data_.loc[:,feature] / np.max(ho_data_.loc[:,feature])\n",
        "\n",
        "\n",
        "v = int(len(ho_data_)/2)\n",
        "p = model.predict_proba(ho_data_.loc[:,features])\n",
        "solution = defaultdict(list)\n",
        "scores_dict = defaultdict(dict)\n",
        "      \n",
        "for i in range(len(ho_data_)):\n",
        "  uid = ho_data_.iloc[i].uid\n",
        "  bid = ho_data_.iloc[i].bid\n",
        "  solution[uid].append(p[i][1])\n",
        "  solution[uid].sort()\n",
        "  scores_dict[uid][bid] = p[i][1]\n",
        "\n",
        "pr = []\n",
        "for i in range(len(ho_data_)):\n",
        "  uid = ho_data_.iloc[i].uid\n",
        "  bid = ho_data_.iloc[i].bid\n",
        "  l = len(solution[uid])\n",
        "  assert(l % 2 == 0)\n",
        "  if scores_dict[uid][bid] >= solution[uid][int(l/2)]:\n",
        "    pr.append(1)\n",
        "  else: pr.append(0)\n",
        "\n",
        "ho_data_.loc[:,'prediction'] = pr\n",
        "ho_data_[['userID-bookID','prediction']].to_csv('threhsolded_again2.csv',index=False)\n",
        "\n"
      ],
      "execution_count": 0,
      "outputs": [
        {
          "output_type": "stream",
          "text": [
            "INFO:tensorflow:Restoring parameters from ./model__checkpoint_39.ckpt\n"
          ],
          "name": "stdout"
        }
      ]
    }
  ]
}